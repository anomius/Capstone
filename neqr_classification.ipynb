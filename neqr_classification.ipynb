{
 "cells": [
  {
   "cell_type": "code",
   "execution_count": null,
   "metadata": {},
   "outputs": [],
   "source": []
  }
 ],
 "metadata": {
  "kernelspec": {
   "display_name": "Quantum",
   "language": "python",
   "name": "python3"
  },
  "language_info": {
   "name": "python",
   "version": "3.9.16"
  },
  "orig_nbformat": 4,
  "vscode": {
   "interpreter": {
    "hash": "3386639732fab8d0dde003e73e96f74553c737e45bfa94d08454eb4f49bbbf50"
   }
  }
 },
 "nbformat": 4,
 "nbformat_minor": 2
}
